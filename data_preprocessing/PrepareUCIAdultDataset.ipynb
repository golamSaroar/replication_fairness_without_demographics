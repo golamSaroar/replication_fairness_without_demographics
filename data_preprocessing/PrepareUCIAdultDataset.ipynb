{
 "cells": [
  {
   "cell_type": "code",
   "execution_count": 1,
   "metadata": {
    "pycharm": {
     "is_executing": true,
     "name": "#%%\n"
    }
   },
   "outputs": [],
   "source": [
    "import os\n",
    "import pandas as pd\n",
    "import json"
   ]
  },
  {
   "cell_type": "code",
   "execution_count": 2,
   "metadata": {
    "pycharm": {
     "name": "#%%\n"
    }
   },
   "outputs": [],
   "source": [
    "base_dir = '../data/uci_adult/'\n",
    "train_data = os.path.join(base_dir, 'adult.data')\n",
    "test_data = os.path.join(base_dir, 'adult.test')"
   ]
  },
  {
   "cell_type": "code",
   "execution_count": 3,
   "metadata": {},
   "outputs": [],
   "source": [
    "columns = [\n",
    "    \"age\", \"workclass\", \"fnlwgt\", \"education\", \"education-num\", \"marital-status\", \"occupation\",\n",
    "    \"relationship\", \"race\", \"sex\", \"capital-gain\", \"capital-loss\", \"hours-per-week\", \"native-country\",\n",
    "    \"income\"\n",
    "]"
   ]
  },
  {
   "cell_type": "code",
   "execution_count": 4,
   "metadata": {},
   "outputs": [],
   "source": [
    "with open(train_data, \"r\") as train_data:\n",
    "  train_df = pd.read_csv(train_data, sep=',', names=columns)\n",
    "\n",
    "with open(test_data, \"r\") as test_data:\n",
    "  test_df = pd.read_csv(test_data, sep=',', names=columns)"
   ]
  },
  {
   "cell_type": "code",
   "execution_count": 5,
   "metadata": {},
   "outputs": [
    {
     "name": "stdout",
     "output_type": "stream",
     "text": [
      "<class 'pandas.core.frame.DataFrame'>\n",
      "RangeIndex: 32561 entries, 0 to 32560\n",
      "Data columns (total 15 columns):\n",
      " #   Column          Non-Null Count  Dtype \n",
      "---  ------          --------------  ----- \n",
      " 0   age             32561 non-null  int64 \n",
      " 1   workclass       32561 non-null  object\n",
      " 2   fnlwgt          32561 non-null  int64 \n",
      " 3   education       32561 non-null  object\n",
      " 4   education-num   32561 non-null  int64 \n",
      " 5   marital-status  32561 non-null  object\n",
      " 6   occupation      32561 non-null  object\n",
      " 7   relationship    32561 non-null  object\n",
      " 8   race            32561 non-null  object\n",
      " 9   sex             32561 non-null  object\n",
      " 10  capital-gain    32561 non-null  int64 \n",
      " 11  capital-loss    32561 non-null  int64 \n",
      " 12  hours-per-week  32561 non-null  int64 \n",
      " 13  native-country  32561 non-null  object\n",
      " 14  income          32561 non-null  object\n",
      "dtypes: int64(6), object(9)\n",
      "memory usage: 3.7+ MB\n"
     ]
    }
   ],
   "source": [
    "train_df.info()"
   ]
  },
  {
   "cell_type": "code",
   "execution_count": 6,
   "metadata": {},
   "outputs": [],
   "source": [
    "# convert object columns to category columns\n",
    "# https://stackoverflow.com/a/39906514/4082505\n",
    "\n",
    "def convert_object_to_category(df):\n",
    "    return pd.concat([\n",
    "        df.select_dtypes([], ['object']),\n",
    "        df.select_dtypes(['object']).apply(pd.Series.astype, dtype='category')\n",
    "        ], axis=1).reindex(df.columns, axis=1)"
   ]
  },
  {
   "cell_type": "code",
   "execution_count": 7,
   "metadata": {},
   "outputs": [
    {
     "name": "stdout",
     "output_type": "stream",
     "text": [
      "<class 'pandas.core.frame.DataFrame'>\n",
      "RangeIndex: 32561 entries, 0 to 32560\n",
      "Data columns (total 15 columns):\n",
      " #   Column          Non-Null Count  Dtype   \n",
      "---  ------          --------------  -----   \n",
      " 0   age             32561 non-null  int64   \n",
      " 1   workclass       32561 non-null  category\n",
      " 2   fnlwgt          32561 non-null  int64   \n",
      " 3   education       32561 non-null  category\n",
      " 4   education-num   32561 non-null  int64   \n",
      " 5   marital-status  32561 non-null  category\n",
      " 6   occupation      32561 non-null  category\n",
      " 7   relationship    32561 non-null  category\n",
      " 8   race            32561 non-null  category\n",
      " 9   sex             32561 non-null  category\n",
      " 10  capital-gain    32561 non-null  int64   \n",
      " 11  capital-loss    32561 non-null  int64   \n",
      " 12  hours-per-week  32561 non-null  int64   \n",
      " 13  native-country  32561 non-null  category\n",
      " 14  income          32561 non-null  category\n",
      "dtypes: category(9), int64(6)\n",
      "memory usage: 1.8 MB\n"
     ]
    }
   ],
   "source": [
    "train_df = convert_object_to_category(train_df)\n",
    "test_df = convert_object_to_category(test_df)\n",
    "\n",
    "train_df.info()"
   ]
  },
  {
   "cell_type": "code",
   "execution_count": 8,
   "metadata": {},
   "outputs": [
    {
     "data": {
      "text/plain": [
       "Index(['workclass', 'education', 'marital-status', 'occupation',\n",
       "       'relationship', 'race', 'sex', 'native-country', 'income'],\n",
       "      dtype='object')"
      ]
     },
     "execution_count": 8,
     "metadata": {},
     "output_type": "execute_result"
    }
   ],
   "source": [
    "categorical_columns = train_df.select_dtypes(include='category').columns\n",
    "vocabulary = {}\n",
    "\n",
    "for column in categorical_columns:\n",
    "  vocabulary[column] = list(set(train_df[column].cat.categories)-{\"?\"})\n",
    "categorical_columns"
   ]
  },
  {
   "cell_type": "code",
   "execution_count": 9,
   "metadata": {
    "pycharm": {
     "name": "#%%\n"
    }
   },
   "outputs": [],
   "source": [
    "def write_to_output_file(filename, content):\n",
    "    output_file_path = os.path.join(base_dir, filename)\n",
    "\n",
    "    with open(output_file_path, mode=\"w\") as output_file:\n",
    "        output_file.write(json.dumps(content))\n",
    "        output_file.close()"
   ]
  },
  {
   "cell_type": "code",
   "execution_count": 10,
   "metadata": {
    "pycharm": {
     "is_executing": true
    }
   },
   "outputs": [
    {
     "name": "stdout",
     "output_type": "stream",
     "text": [
      "{'workclass': ['Federal-gov', 'Self-emp-not-inc', 'Self-emp-inc', 'Without-pay', 'State-gov', 'Never-worked', 'Private', 'Local-gov'], 'education': ['5th-6th', '12th', 'Assoc-voc', 'Preschool', '10th', '9th', 'Prof-school', '7th-8th', 'Doctorate', '1st-4th', '11th', 'Some-college', 'Bachelors', 'HS-grad', 'Masters', 'Assoc-acdm'], 'marital-status': ['Separated', 'Married-civ-spouse', 'Divorced', 'Widowed', 'Married-AF-spouse', 'Married-spouse-absent', 'Never-married'], 'occupation': ['Prof-specialty', 'Protective-serv', 'Tech-support', 'Transport-moving', 'Handlers-cleaners', 'Machine-op-inspct', 'Craft-repair', 'Priv-house-serv', 'Other-service', 'Exec-managerial', 'Armed-Forces', 'Sales', 'Farming-fishing', 'Adm-clerical'], 'relationship': ['Other-relative', 'Not-in-family', 'Wife', 'Own-child', 'Unmarried', 'Husband'], 'race': ['Amer-Indian-Eskimo', 'Other', 'Black', 'White', 'Asian-Pac-Islander'], 'sex': ['Female', 'Male'], 'native-country': ['Japan', 'Greece', 'Poland', 'Peru', 'Haiti', 'South', 'Vietnam', 'Holand-Netherlands', 'United-States', 'Guatemala', 'Scotland', 'Laos', 'Columbia', 'Trinadad&Tobago', 'Hungary', 'Germany', 'Yugoslavia', 'Jamaica', 'Portugal', 'Ireland', 'Outlying-US(Guam-USVI-etc)', 'Nicaragua', 'Iran', 'Cuba', 'El-Salvador', 'Philippines', 'Thailand', 'Hong', 'China', 'Ecuador', 'Puerto-Rico', 'Mexico', 'Cambodia', 'France', 'India', 'Dominican-Republic', 'Canada', 'Honduras', 'Italy', 'Taiwan', 'England'], 'income': ['>50K', '<=50K']}\n"
     ]
    }
   ],
   "source": [
    "write_to_output_file('vocabulary.json', vocabulary)\n",
    "print(vocabulary)"
   ]
  },
  {
   "cell_type": "code",
   "execution_count": 11,
   "metadata": {},
   "outputs": [],
   "source": [
    "mean_and_std = {}\n",
    "\n",
    "for key, value in train_df.describe().to_dict().items():\n",
    "  mean_and_std[key] = [value['mean'], value['std']]"
   ]
  },
  {
   "cell_type": "code",
   "execution_count": 12,
   "metadata": {},
   "outputs": [
    {
     "name": "stdout",
     "output_type": "stream",
     "text": [
      "{'age': [38.58164675532078, 13.640432553581341], 'fnlwgt': [189778.36651208502, 105549.97769702224], 'education-num': [10.0806793403151, 2.5727203320673877], 'capital-gain': [1077.6488437087312, 7385.292084840338], 'capital-loss': [87.303829734959, 402.9602186489998], 'hours-per-week': [40.437455852092995, 12.347428681731843]}\n"
     ]
    }
   ],
   "source": [
    "write_to_output_file('mean_and_std.json', mean_and_std)\n",
    "print(mean_and_std)"
   ]
  },
  {
   "cell_type": "code",
   "execution_count": null,
   "metadata": {},
   "outputs": [],
   "source": []
  }
 ],
 "metadata": {
  "kernelspec": {
   "display_name": "Python 3 (ipykernel)",
   "language": "python",
   "name": "python3"
  },
  "language_info": {
   "codemirror_mode": {
    "name": "ipython",
    "version": 3
   },
   "file_extension": ".py",
   "mimetype": "text/x-python",
   "name": "python",
   "nbconvert_exporter": "python",
   "pygments_lexer": "ipython3",
   "version": "3.8.13"
  }
 },
 "nbformat": 4,
 "nbformat_minor": 1
}
